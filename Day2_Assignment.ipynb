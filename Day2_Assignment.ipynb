{
  "nbformat": 4,
  "nbformat_minor": 0,
  "metadata": {
    "colab": {
      "name": "Day2_Assignment.ipynb",
      "provenance": [],
      "collapsed_sections": [],
      "authorship_tag": "ABX9TyP+qjQP14dvokj2KsZH1PfC",
      "include_colab_link": true
    },
    "kernelspec": {
      "name": "python3",
      "display_name": "Python 3"
    },
    "language_info": {
      "name": "python"
    }
  },
  "cells": [
    {
      "cell_type": "markdown",
      "metadata": {
        "id": "view-in-github",
        "colab_type": "text"
      },
      "source": [
        "<a href=\"https://colab.research.google.com/github/MannyP31/Lets_Upgrade_Assignments/blob/master/Day2_Assignment.ipynb\" target=\"_parent\"><img src=\"https://colab.research.google.com/assets/colab-badge.svg\" alt=\"Open In Colab\"/></a>"
      ]
    },
    {
      "cell_type": "code",
      "metadata": {
        "id": "Ib1Z4kW2sdkI"
      },
      "source": [
        "import numpy as np\n",
        "import pandas as pd \n",
        "import matplotlib as mpl\n",
        "import matplotlib.pyplot as plt\n",
        "import seaborn as sns\n",
        "%matplotlib inline\n",
        "from numpy.random import randn , randint , uniform , sample"
      ],
      "execution_count": 1,
      "outputs": []
    },
    {
      "cell_type": "code",
      "metadata": {
        "id": "VV8_akmstQDa"
      },
      "source": [
        "df=pd.DataFrame(randn(10,4), columns=['a','b','c','d'])"
      ],
      "execution_count": 2,
      "outputs": []
    },
    {
      "cell_type": "code",
      "metadata": {
        "colab": {
          "base_uri": "https://localhost:8080/",
          "height": 355
        },
        "id": "d_l58B1ItSAE",
        "outputId": "a957e7e8-8610-4730-c186-7e54753204e6"
      },
      "source": [
        "df\n"
      ],
      "execution_count": 3,
      "outputs": [
        {
          "output_type": "execute_result",
          "data": {
            "text/html": [
              "<div>\n",
              "<style scoped>\n",
              "    .dataframe tbody tr th:only-of-type {\n",
              "        vertical-align: middle;\n",
              "    }\n",
              "\n",
              "    .dataframe tbody tr th {\n",
              "        vertical-align: top;\n",
              "    }\n",
              "\n",
              "    .dataframe thead th {\n",
              "        text-align: right;\n",
              "    }\n",
              "</style>\n",
              "<table border=\"1\" class=\"dataframe\">\n",
              "  <thead>\n",
              "    <tr style=\"text-align: right;\">\n",
              "      <th></th>\n",
              "      <th>a</th>\n",
              "      <th>b</th>\n",
              "      <th>c</th>\n",
              "      <th>d</th>\n",
              "    </tr>\n",
              "  </thead>\n",
              "  <tbody>\n",
              "    <tr>\n",
              "      <th>0</th>\n",
              "      <td>0.663842</td>\n",
              "      <td>0.538024</td>\n",
              "      <td>0.583808</td>\n",
              "      <td>-0.309405</td>\n",
              "    </tr>\n",
              "    <tr>\n",
              "      <th>1</th>\n",
              "      <td>-0.496926</td>\n",
              "      <td>0.568205</td>\n",
              "      <td>0.379194</td>\n",
              "      <td>-0.967758</td>\n",
              "    </tr>\n",
              "    <tr>\n",
              "      <th>2</th>\n",
              "      <td>-0.762423</td>\n",
              "      <td>-0.385886</td>\n",
              "      <td>0.665656</td>\n",
              "      <td>1.410504</td>\n",
              "    </tr>\n",
              "    <tr>\n",
              "      <th>3</th>\n",
              "      <td>0.169712</td>\n",
              "      <td>-0.517844</td>\n",
              "      <td>1.970449</td>\n",
              "      <td>2.565116</td>\n",
              "    </tr>\n",
              "    <tr>\n",
              "      <th>4</th>\n",
              "      <td>-0.824280</td>\n",
              "      <td>-0.688540</td>\n",
              "      <td>2.014148</td>\n",
              "      <td>0.786066</td>\n",
              "    </tr>\n",
              "    <tr>\n",
              "      <th>5</th>\n",
              "      <td>-0.468299</td>\n",
              "      <td>1.884230</td>\n",
              "      <td>0.228300</td>\n",
              "      <td>0.040700</td>\n",
              "    </tr>\n",
              "    <tr>\n",
              "      <th>6</th>\n",
              "      <td>0.560334</td>\n",
              "      <td>-0.515789</td>\n",
              "      <td>1.340954</td>\n",
              "      <td>0.345371</td>\n",
              "    </tr>\n",
              "    <tr>\n",
              "      <th>7</th>\n",
              "      <td>0.340189</td>\n",
              "      <td>0.980860</td>\n",
              "      <td>0.379066</td>\n",
              "      <td>2.540866</td>\n",
              "    </tr>\n",
              "    <tr>\n",
              "      <th>8</th>\n",
              "      <td>1.161498</td>\n",
              "      <td>1.133545</td>\n",
              "      <td>0.520318</td>\n",
              "      <td>-1.360259</td>\n",
              "    </tr>\n",
              "    <tr>\n",
              "      <th>9</th>\n",
              "      <td>0.140916</td>\n",
              "      <td>0.472759</td>\n",
              "      <td>1.007119</td>\n",
              "      <td>-0.235524</td>\n",
              "    </tr>\n",
              "  </tbody>\n",
              "</table>\n",
              "</div>"
            ],
            "text/plain": [
              "          a         b         c         d\n",
              "0  0.663842  0.538024  0.583808 -0.309405\n",
              "1 -0.496926  0.568205  0.379194 -0.967758\n",
              "2 -0.762423 -0.385886  0.665656  1.410504\n",
              "3  0.169712 -0.517844  1.970449  2.565116\n",
              "4 -0.824280 -0.688540  2.014148  0.786066\n",
              "5 -0.468299  1.884230  0.228300  0.040700\n",
              "6  0.560334 -0.515789  1.340954  0.345371\n",
              "7  0.340189  0.980860  0.379066  2.540866\n",
              "8  1.161498  1.133545  0.520318 -1.360259\n",
              "9  0.140916  0.472759  1.007119 -0.235524"
            ]
          },
          "metadata": {
            "tags": []
          },
          "execution_count": 3
        }
      ]
    },
    {
      "cell_type": "code",
      "metadata": {
        "colab": {
          "base_uri": "https://localhost:8080/",
          "height": 294
        },
        "id": "g5ESO6ImtWdM",
        "outputId": "18832014-2533-421a-cea7-ed82555b0750"
      },
      "source": [
        "df.describe()"
      ],
      "execution_count": 4,
      "outputs": [
        {
          "output_type": "execute_result",
          "data": {
            "text/html": [
              "<div>\n",
              "<style scoped>\n",
              "    .dataframe tbody tr th:only-of-type {\n",
              "        vertical-align: middle;\n",
              "    }\n",
              "\n",
              "    .dataframe tbody tr th {\n",
              "        vertical-align: top;\n",
              "    }\n",
              "\n",
              "    .dataframe thead th {\n",
              "        text-align: right;\n",
              "    }\n",
              "</style>\n",
              "<table border=\"1\" class=\"dataframe\">\n",
              "  <thead>\n",
              "    <tr style=\"text-align: right;\">\n",
              "      <th></th>\n",
              "      <th>a</th>\n",
              "      <th>b</th>\n",
              "      <th>c</th>\n",
              "      <th>d</th>\n",
              "    </tr>\n",
              "  </thead>\n",
              "  <tbody>\n",
              "    <tr>\n",
              "      <th>count</th>\n",
              "      <td>10.000000</td>\n",
              "      <td>10.000000</td>\n",
              "      <td>10.000000</td>\n",
              "      <td>10.000000</td>\n",
              "    </tr>\n",
              "    <tr>\n",
              "      <th>mean</th>\n",
              "      <td>0.048456</td>\n",
              "      <td>0.346956</td>\n",
              "      <td>0.908901</td>\n",
              "      <td>0.481568</td>\n",
              "    </tr>\n",
              "    <tr>\n",
              "      <th>std</th>\n",
              "      <td>0.664297</td>\n",
              "      <td>0.855477</td>\n",
              "      <td>0.657027</td>\n",
              "      <td>1.349204</td>\n",
              "    </tr>\n",
              "    <tr>\n",
              "      <th>min</th>\n",
              "      <td>-0.824280</td>\n",
              "      <td>-0.688540</td>\n",
              "      <td>0.228300</td>\n",
              "      <td>-1.360259</td>\n",
              "    </tr>\n",
              "    <tr>\n",
              "      <th>25%</th>\n",
              "      <td>-0.489769</td>\n",
              "      <td>-0.483313</td>\n",
              "      <td>0.414475</td>\n",
              "      <td>-0.290935</td>\n",
              "    </tr>\n",
              "    <tr>\n",
              "      <th>50%</th>\n",
              "      <td>0.155314</td>\n",
              "      <td>0.505392</td>\n",
              "      <td>0.624732</td>\n",
              "      <td>0.193036</td>\n",
              "    </tr>\n",
              "    <tr>\n",
              "      <th>75%</th>\n",
              "      <td>0.505298</td>\n",
              "      <td>0.877696</td>\n",
              "      <td>1.257495</td>\n",
              "      <td>1.254394</td>\n",
              "    </tr>\n",
              "    <tr>\n",
              "      <th>max</th>\n",
              "      <td>1.161498</td>\n",
              "      <td>1.884230</td>\n",
              "      <td>2.014148</td>\n",
              "      <td>2.565116</td>\n",
              "    </tr>\n",
              "  </tbody>\n",
              "</table>\n",
              "</div>"
            ],
            "text/plain": [
              "               a          b          c          d\n",
              "count  10.000000  10.000000  10.000000  10.000000\n",
              "mean    0.048456   0.346956   0.908901   0.481568\n",
              "std     0.664297   0.855477   0.657027   1.349204\n",
              "min    -0.824280  -0.688540   0.228300  -1.360259\n",
              "25%    -0.489769  -0.483313   0.414475  -0.290935\n",
              "50%     0.155314   0.505392   0.624732   0.193036\n",
              "75%     0.505298   0.877696   1.257495   1.254394\n",
              "max     1.161498   1.884230   2.014148   2.565116"
            ]
          },
          "metadata": {
            "tags": []
          },
          "execution_count": 4
        }
      ]
    },
    {
      "cell_type": "code",
      "metadata": {
        "colab": {
          "base_uri": "https://localhost:8080/",
          "height": 604
        },
        "id": "wC2SbjuFt8cP",
        "outputId": "26fd1164-3f20-49e4-d303-2535ee96f6cb"
      },
      "source": [
        "df.plot(kind='bar',figsize=(10,10))\n",
        "plt.title(\"BAR GRAPH\",color='b')\n",
        "plt.show()"
      ],
      "execution_count": 5,
      "outputs": [
        {
          "output_type": "display_data",
          "data": {
            "image/png": "[encoded data removed]",
            "text/plain": [
              "<Figure size 720x720 with 1 Axes>"
            ]
          },
          "metadata": {
            "tags": [],
            "needs_background": "light"
          }
        }
      ]
    }
  ]
}